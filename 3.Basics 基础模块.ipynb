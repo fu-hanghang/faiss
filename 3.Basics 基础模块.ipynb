{
 "cells": [
  {
   "cell_type": "markdown",
   "metadata": {},
   "source": [
    "# faiss基础模块\n",
    "faiss中的索引基于几个基础算法构建，只不过在faiss中是一种高效的实现。他们分别是k-means聚类、PCA降维、PQ编码、解码。"
   ]
  },
  {
   "cell_type": "markdown",
   "metadata": {},
   "source": [
    "## k-means聚类"
   ]
  },
  {
   "cell_type": "code",
   "execution_count": 7,
   "metadata": {},
   "outputs": [
    {
     "name": "stdout",
     "output_type": "stream",
     "text": [
      "1024\n",
      "512\n",
      "[[3.046999  3.0121088 3.0124333 ... 3.0203993 3.011947  2.9342847]\n",
      " [2.7589808 3.0725713 2.9360871 ... 3.0773525 2.902585  2.995511 ]\n",
      " [3.1167192 2.9537685 2.9987445 ... 3.0199993 2.9278672 3.050025 ]\n",
      " ...\n",
      " [2.9502757 3.0440164 2.9121387 ... 2.9652288 3.2078865 3.009649 ]\n",
      " [2.9459333 3.0297534 2.9002755 ... 2.9255435 2.8951385 2.9468067]\n",
      " [2.9947238 3.1082706 2.9418213 ... 3.0144033 3.046606  2.9184723]]\n"
     ]
    }
   ],
   "source": [
    "\n",
    "import faiss\n",
    "\n",
    "#数据\n",
    "import numpy as np \n",
    "d = 512          #维数\n",
    "n_data = 2000   \n",
    "np.random.seed(0) \n",
    "data = []\n",
    "mu = 3\n",
    "sigma = 0.1\n",
    "for i in range(n_data):\n",
    "    data.append(np.random.normal(mu, sigma, d))\n",
    "data = np.array(data).astype('float32')\n",
    "\n",
    "# 聚类\n",
    "ncentroids = 1024\n",
    "niter = 20\n",
    "verbose = True\n",
    "d = data.shape[1]\n",
    "kmeans = faiss.Kmeans(d, ncentroids, niter=20, verbose=True)\n",
    "kmeans.train(data)\n",
    "\n",
    "#输出聚类中心\n",
    "print(len(kmeans.centroids))\n",
    "print(len(kmeans.centroids[0]))\n",
    "print(kmeans.centroids)"
   ]
  },
  {
   "cell_type": "code",
   "execution_count": null,
   "metadata": {},
   "outputs": [],
   "source": []
  },
  {
   "cell_type": "code",
   "execution_count": 4,
   "metadata": {},
   "outputs": [
    {
     "name": "stdout",
     "output_type": "stream",
     "text": [
      "Help on class Kmeans in module faiss:\n",
      "\n",
      "class Kmeans(builtins.object)\n",
      " |  Kmeans(d, k, **kwargs)\n",
      " |  \n",
      " |  shallow wrapper around the Clustering object. The important method\n",
      " |  is train().\n",
      " |  \n",
      " |  Methods defined here:\n",
      " |  \n",
      " |  __init__(self, d, k, **kwargs)\n",
      " |      d: input dimension, k: nb of centroids. Additional\n",
      " |      parameters are passed on the ClusteringParameters object,\n",
      " |      including niter=25, verbose=False, spherical = False\n",
      " |  \n",
      " |  assign(self, x)\n",
      " |  \n",
      " |  train(self, x)\n",
      " |  \n",
      " |  ----------------------------------------------------------------------\n",
      " |  Data descriptors defined here:\n",
      " |  \n",
      " |  __dict__\n",
      " |      dictionary for instance variables (if defined)\n",
      " |  \n",
      " |  __weakref__\n",
      " |      list of weak references to the object (if defined)\n",
      "\n"
     ]
    }
   ],
   "source": [
    "help(faiss.Kmeans)"
   ]
  },
  {
   "cell_type": "code",
   "execution_count": 8,
   "metadata": {},
   "outputs": [
    {
     "name": "stdout",
     "output_type": "stream",
     "text": [
      "[[4.899538 ]\n",
      " [2.2404225]\n",
      " [3.0874515]\n",
      " [4.472025 ]\n",
      " [2.1018007]]\n",
      "[[ 61]\n",
      " [767]\n",
      " [393]\n",
      " [415]\n",
      " [175]]\n"
     ]
    }
   ],
   "source": [
    "#计算某个向量属于哪一个子类，返回聚类中心次序和L2距离\n",
    "D, I = kmeans.index.search(data[:5], 1)\n",
    "print(D)\n",
    "print(I)"
   ]
  },
  {
   "cell_type": "code",
   "execution_count": 9,
   "metadata": {},
   "outputs": [
    {
     "name": "stdout",
     "output_type": "stream",
     "text": [
      "Help on method replacement_search in module faiss:\n",
      "\n",
      "replacement_search(x, k) method of faiss.swigfaiss.IndexFlatL2 instance\n",
      "\n"
     ]
    }
   ],
   "source": [
    "help(kmeans.index.search)"
   ]
  },
  {
   "cell_type": "code",
   "execution_count": 11,
   "metadata": {},
   "outputs": [
    {
     "data": {
      "text/plain": [
       "1024"
      ]
     },
     "execution_count": 11,
     "metadata": {},
     "output_type": "execute_result"
    }
   ],
   "source": [
    "len(kmeans.centroids)"
   ]
  },
  {
   "cell_type": "code",
   "execution_count": 13,
   "metadata": {},
   "outputs": [
    {
     "name": "stdout",
     "output_type": "stream",
     "text": [
      "[[3.2480469 4.0878906 4.2226562 4.2304688 4.3759766]\n",
      " [0.        8.475586  8.520508  8.709961  8.7421875]\n",
      " [0.        8.439453  8.458008  8.519531  8.62207  ]\n",
      " ...\n",
      " [0.        8.826172  8.837891  8.891602  8.931641 ]\n",
      " [2.5205078 3.046875  3.2646484 5.705078  5.932617 ]\n",
      " [2.2167969 2.2207031 6.609375  6.6591797 6.665039 ]]\n",
      "[[1083  472  356 1892   34]\n",
      " [1411  414  198  620 1129]\n",
      " [ 140  317 1686   24  402]\n",
      " ...\n",
      " [ 753 1776  331  389  279]\n",
      " [ 432 1096  240  879  329]\n",
      " [ 625 1211  751  106 1318]]\n"
     ]
    }
   ],
   "source": [
    "#返回距离某个聚类中心最近的5个向量\n",
    "index = faiss.IndexFlatL2 (d)\n",
    "index.add (data)\n",
    "D, I = index.search (kmeans.centroids, 5)\n",
    "print(D)\n",
    "print(I)"
   ]
  },
  {
   "cell_type": "markdown",
   "metadata": {},
   "source": [
    "## PCA降维"
   ]
  },
  {
   "cell_type": "code",
   "execution_count": 14,
   "metadata": {
    "scrolled": false
   },
   "outputs": [
    {
     "name": "stdout",
     "output_type": "stream",
     "text": [
      "Help on class PCAMatrix in module faiss.swigfaiss:\n",
      "\n",
      "class PCAMatrix(LinearTransform)\n",
      " |  PCAMatrix(d_in=0, d_out=0, eigen_power=0, random_rotation=False)\n",
      " |  \n",
      " |  Method resolution order:\n",
      " |      PCAMatrix\n",
      " |      LinearTransform\n",
      " |      VectorTransform\n",
      " |      builtins.object\n",
      " |  \n",
      " |  Methods defined here:\n",
      " |  \n",
      " |  __del__ lambda self\n",
      " |  \n",
      " |  __getattr__ lambda self, name\n",
      " |  \n",
      " |  __init__(self, d_in=0, d_out=0, eigen_power=0, random_rotation=False)\n",
      " |      Initialize self.  See help(type(self)) for accurate signature.\n",
      " |  \n",
      " |  __repr__ = _swig_repr(self)\n",
      " |  \n",
      " |  __setattr__ lambda self, name, value\n",
      " |  \n",
      " |  apply_py = apply_method(self, x)\n",
      " |  \n",
      " |  copy_from(self, other)\n",
      " |  \n",
      " |  prepare_Ab(self)\n",
      " |  \n",
      " |  train = replacement_vt_train(self, x)\n",
      " |  \n",
      " |  train_c = train(self, n, x)\n",
      " |  \n",
      " |  ----------------------------------------------------------------------\n",
      " |  Static methods defined here:\n",
      " |  \n",
      " |  __swig_destroy__ = delete_PCAMatrix(...)\n",
      " |  \n",
      " |  ----------------------------------------------------------------------\n",
      " |  Data descriptors defined here:\n",
      " |  \n",
      " |  PCAMat\n",
      " |  \n",
      " |  balanced_bins\n",
      " |  \n",
      " |  eigen_power\n",
      " |  \n",
      " |  eigenvalues\n",
      " |  \n",
      " |  max_points_per_d\n",
      " |  \n",
      " |  mean\n",
      " |  \n",
      " |  random_rotation\n",
      " |  \n",
      " |  ----------------------------------------------------------------------\n",
      " |  Data and other attributes defined here:\n",
      " |  \n",
      " |  __swig_getmethods__ = {'A': <built-in function LinearTransform_A_get>,...\n",
      " |  \n",
      " |  __swig_setmethods__ = {'A': <built-in function LinearTransform_A_set>,...\n",
      " |  \n",
      " |  ----------------------------------------------------------------------\n",
      " |  Methods inherited from LinearTransform:\n",
      " |  \n",
      " |  apply_noalloc(self, n, x, xt)\n",
      " |  \n",
      " |  print_if_verbose(self, name, mat, n, d)\n",
      " |  \n",
      " |  reverse_transform = replacement_reverse_transform(self, x)\n",
      " |  \n",
      " |  reverse_transform_c = reverse_transform(self, n, xt, x)\n",
      " |  \n",
      " |  set_is_orthonormal(self)\n",
      " |  \n",
      " |  transform_transpose(self, n, y, x)\n",
      " |  \n",
      " |  ----------------------------------------------------------------------\n",
      " |  Data descriptors inherited from LinearTransform:\n",
      " |  \n",
      " |  A\n",
      " |  \n",
      " |  b\n",
      " |  \n",
      " |  have_bias\n",
      " |  \n",
      " |  is_orthonormal\n",
      " |  \n",
      " |  verbose\n",
      " |  \n",
      " |  ----------------------------------------------------------------------\n",
      " |  Methods inherited from VectorTransform:\n",
      " |  \n",
      " |  apply(self, n, x)\n",
      " |  \n",
      " |  ----------------------------------------------------------------------\n",
      " |  Data descriptors inherited from VectorTransform:\n",
      " |  \n",
      " |  __dict__\n",
      " |      dictionary for instance variables (if defined)\n",
      " |  \n",
      " |  __weakref__\n",
      " |      list of weak references to the object (if defined)\n",
      " |  \n",
      " |  d_in\n",
      " |  \n",
      " |  d_out\n",
      " |  \n",
      " |  is_trained\n",
      "\n"
     ]
    }
   ],
   "source": [
    "help(faiss.PCAMatrix)"
   ]
  },
  {
   "cell_type": "code",
   "execution_count": 17,
   "metadata": {},
   "outputs": [
    {
     "name": "stdout",
     "output_type": "stream",
     "text": [
      "(2000, 64)\n"
     ]
    }
   ],
   "source": [
    "mat = faiss.PCAMatrix (512, 64)  # 从512维降为64维\n",
    "mat.train(data)\n",
    "assert mat.is_trained\n",
    "tr = mat.apply_py(data)\n",
    "print(tr.shape)"
   ]
  },
  {
   "cell_type": "markdown",
   "metadata": {},
   "source": [
    "## PQ编码/解码\n",
    "ProductQuantizer对象可以将向量编码为code。"
   ]
  },
  {
   "cell_type": "code",
   "execution_count": 15,
   "metadata": {},
   "outputs": [
    {
     "data": {
      "text/plain": [
       "array([3.1764052, 3.0400157, 3.0978737, 3.2240894, 3.186756 , 2.9022722,\n",
       "       3.0950089, 2.9848642, 2.9896781, 3.0410597, 3.0144043, 3.1454275,\n",
       "       3.0761037, 3.0121675, 3.0443864, 3.0333674, 3.1494079, 2.979484 ,\n",
       "       3.0313067, 2.9145904, 2.744701 , 3.065362 , 3.0864437, 2.9257834,\n",
       "       3.2269754, 2.8545635, 3.004576 , 2.9812815, 3.1532779, 3.146936 ,\n",
       "       3.0154948, 3.0378163, 2.9112215, 2.8019204, 2.9652088, 3.015635 ,\n",
       "       3.123029 , 3.120238 , 2.9612672, 2.9697697, 2.8951447, 2.8579981,\n",
       "       2.829373 , 3.1950777, 2.9490347, 2.9561925, 2.8747206, 3.077749 ,\n",
       "       2.8386102, 2.978726 , 2.9104533, 3.0386903, 2.9489195, 2.8819368,\n",
       "       2.997182 , 3.042833 , 3.0066516, 3.0302472, 2.9365678, 2.9637258,\n",
       "       2.932754 , 2.9640446, 2.9186854, 2.8273718, 3.0177426, 2.959822 ,\n",
       "       2.83698  , 3.0462782, 2.90927  , 3.0051944, 3.072909 , 3.0128982,\n",
       "       3.11394  , 2.8765175, 3.040234 , 2.931519 , 2.9129202, 2.942115 ,\n",
       "       2.9688447, 3.0056164, 2.883485 , 3.0900826, 3.0465662, 2.8463757,\n",
       "       3.1488252, 3.189589 , 3.117878 , 2.9820075, 2.8929248, 3.1054451,\n",
       "       2.9596822, 3.1222446, 3.0208275, 3.0976639, 3.0356367, 3.0706573,\n",
       "       3.00105  , 3.178587 , 3.0126913, 3.040199 , 3.1883152, 2.8652241,\n",
       "       2.8729515, 3.0969396, 2.8826876, 3.1943622, 2.9586382, 2.9252546,\n",
       "       3.1922941, 3.1480515, 3.186756 , 3.0906045, 2.9138775, 3.1910064,\n",
       "       2.9731996, 3.0802457, 3.0947251, 2.984499 , 3.061408 , 3.0922208,\n",
       "       3.0376425, 2.89006  , 3.0298238, 3.1326387, 2.9305432, 2.9850366,\n",
       "       2.9564846, 3.1849263, 3.0672295, 3.0407462, 2.9230084, 3.053925 ,\n",
       "       2.9325666, 3.0031831, 2.9364154, 3.0676434, 3.0576591, 2.97917  ,\n",
       "       3.0396006, 2.890694 , 2.8508742, 3.043939 , 3.0166674, 3.063503 ,\n",
       "       3.2383144, 3.0944479, 2.9087179, 3.1117017, 2.8684092, 2.9538414,\n",
       "       2.9931757, 3.1713343, 2.9255245, 2.9173563, 2.9901547, 2.9336522,\n",
       "       3.1126635, 2.8920069, 2.8852532, 2.956218 , 2.9501967, 3.192953 ,\n",
       "       3.094942 , 3.0087552, 2.8774564, 3.0844364, 2.8999784, 2.8455229,\n",
       "       3.118803 , 3.0316942, 3.0920858, 3.0318727, 3.085683 , 2.9348974,\n",
       "       2.8965757, 3.0681593, 2.9196591, 2.931045 , 2.9544468, 3.0017478,\n",
       "       2.9646006, 2.862505 , 2.9356382, 2.7776597, 3.0625231, 2.8397942,\n",
       "       2.8895617, 3.0052166, 2.9260437, 3.1543014, 2.8707144, 3.026705 ,\n",
       "       2.9960718, 2.8831906, 3.0523276, 2.9828453, 3.077179 , 3.0823505,\n",
       "       3.2163236, 3.1336527, 2.9630818, 2.976062 , 3.109966 , 3.0655265,\n",
       "       3.0640132, 2.8383043, 2.9975674, 2.9261968, 3.0279925, 2.990185 ,\n",
       "       3.091018 , 3.0317218, 3.0786328, 2.9533582, 2.9055555, 2.958995 ,\n",
       "       2.998298 , 3.0379152, 3.225931 , 2.9957743, 2.9044056, 2.965402 ,\n",
       "       2.9536405, 3.0481482, 2.8459203, 3.0063262, 3.0156507, 3.0232182,\n",
       "       2.9402683, 2.9762077, 2.857594 , 2.950668 , 2.9457138, 3.041605 ,\n",
       "       2.8843818, 3.0781198, 3.1494484, 2.7930014, 3.042626 , 3.0676908,\n",
       "       2.9362564, 2.9602728, 2.986712 , 2.9702208, 2.9690988, 2.8323996,\n",
       "       3.1152332, 3.107962 , 2.9186635, 2.8533576, 3.0521064, 2.9424212,\n",
       "       3.0141952, 2.9680672, 3.0691538, 3.069475 , 2.9274402, 2.8616636,\n",
       "       2.8417063, 3.061038 , 2.881114 , 2.9493184, 2.9403687, 2.9947433,\n",
       "       2.806372 , 3.0188777, 3.0523891, 3.0088422, 2.9689114, 3.00974  ,\n",
       "       3.0399046, 2.7227407, 3.1955912, 3.0390093, 2.9347591, 2.9609046,\n",
       "       3.049374 , 2.9883895, 2.7969315, 3.2064493, 2.988946 , 3.1020172,\n",
       "       2.930795 , 3.1536376, 3.0286343, 3.0608845, 2.8954747, 3.1211145,\n",
       "       3.068982 , 3.1301847, 2.9371912, 2.9518974, 3.2303917, 2.8939984,\n",
       "       2.9864051, 3.1136892, 3.0097725, 3.0582952, 2.960055 , 3.0370057,\n",
       "       2.8693473, 3.165813 , 2.9881835, 2.9319823, 3.0666382, 2.953928 ,\n",
       "       2.866574 , 2.8653283, 3.0693774, 2.9840426, 2.98663  , 3.1077745,\n",
       "       2.8873174, 2.9269323, 2.961512 , 3.0094352, 2.9957829, 2.9713113,\n",
       "       2.9938374, 2.9892695, 2.9280396, 2.9187007, 3.0274518, 2.9109085,\n",
       "       2.8842645, 2.9687707, 2.9842334, 3.2256722, 2.92953  , 3.094326 ,\n",
       "       3.074719 , 2.8811054, 3.0773253, 2.8816118, 2.7340827, 3.060632 ,\n",
       "       2.824411 , 3.0450935, 2.931599 , 3.165955 , 3.1068509, 2.9546614,\n",
       "       2.9312162, 2.8785923, 2.9559078, 2.9719644, 2.9635305, 3.0156703,\n",
       "       3.0578523, 3.0349655, 2.9235857, 2.856221 , 3.1364532, 2.931055 ,\n",
       "       2.9347706, 2.947881 , 2.8156931, 2.9522026, 2.9520345, 3.0620358,\n",
       "       3.0698457, 3.0003772, 3.093185 , 3.0339966, 2.9984317, 3.0160928,\n",
       "       2.9809346, 2.960515 , 2.9732265, 2.887199 , 3.0280442, 2.9006877,\n",
       "       3.0841632, 2.975054 , 3.0049496, 3.0493836, 3.0643315, 2.8429377,\n",
       "       2.9793096, 3.088018 , 2.8301895, 3.038728 , 2.7744436, 2.8977494,\n",
       "       3.003863 , 2.8343284, 2.901449 , 2.8528166, 3.1648135, 3.0164227,\n",
       "       3.056729 , 2.9777324, 2.9646568, 2.8383527, 2.9708164, 2.9238508,\n",
       "       3.0857923, 3.1141102, 3.146658 , 3.0852551, 2.9401345, 2.8884103,\n",
       "       3.0766664, 3.0356293, 2.823146 , 3.0355482, 3.081452 , 3.0058925,\n",
       "       2.9814947, 2.9192352, 2.8553464, 3.0800297, 2.9690886, 2.9766533,\n",
       "       3.1732721, 3.0684502, 3.0370824, 3.0142062, 3.1519995, 3.171959 ,\n",
       "       3.0929506, 3.0582225, 2.7905397, 3.0123723, 2.9869893, 3.0093954,\n",
       "       3.0943046, 2.7260323, 2.9430687, 3.0269904, 2.9533155, 2.8583095,\n",
       "       3.0868964, 3.027687 , 2.9028895, 3.0314817, 3.0821586, 3.0005293,\n",
       "       3.0800564, 3.007826 , 2.960477 , 2.884058 , 2.991407 , 3.0194292,\n",
       "       3.0875833, 2.9884892, 3.0457416, 2.9035387, 2.9217372, 2.988961 ,\n",
       "       2.8945372, 3.0820248, 3.046313 , 3.0279095, 3.0338905, 3.2021043,\n",
       "       2.9531136, 2.779856 , 3.0199301, 2.9949396, 2.9482481, 2.902117 ,\n",
       "       2.9560812, 3.0181339, 2.9497182, 3.2412453, 2.9039495, 2.9206882,\n",
       "       2.771138 , 3.0251484, 2.7983594, 2.9460545, 2.9724329, 2.9290273,\n",
       "       3.1738873, 3.0994394, 3.1319137, 2.9117582, 3.1128595, 3.0496001,\n",
       "       3.0771406, 3.102944 , 2.9091237, 2.9575682, 3.0862596, 2.7344382,\n",
       "       3.1513329, 3.055313 , 2.9954295, 3.0220509, 2.8970065, 2.9650056,\n",
       "       3.1100285, 3.1298022, 3.2696223, 2.9926076, 2.9341447, 2.9485767,\n",
       "       2.8981957, 2.9922144, 3.0382733, 2.9965758, 3.1096346, 2.9765785,\n",
       "       2.965255 , 2.941873 , 2.8367364, 2.8432233, 2.8820841, 3.1301427,\n",
       "       3.089526 , 3.1374965], dtype=float32)"
      ]
     },
     "execution_count": 15,
     "metadata": {},
     "output_type": "execute_result"
    }
   ],
   "source": [
    "data[0]"
   ]
  },
  {
   "cell_type": "code",
   "execution_count": 19,
   "metadata": {},
   "outputs": [
    {
     "name": "stdout",
     "output_type": "stream",
     "text": [
      "0.0008765541\n"
     ]
    }
   ],
   "source": [
    "d = 512  # 数据维度\n",
    "cs = 4  # code size (bytes)\n",
    "\n",
    "# 训练数据集\n",
    "xt = data  #训练集\n",
    "\n",
    "# dataset to encode (could be same as train)\n",
    "x = data\n",
    "\n",
    "pq = faiss.ProductQuantizer(d, cs, 8)\n",
    "pq.train(xt)\n",
    "\n",
    "# encode编码 \n",
    "codes = pq.compute_codes(x)\n",
    "\n",
    "# decode解码\n",
    "x2 = pq.decode(codes)\n",
    "\n",
    "# 编码-解码后与原始数据的差\n",
    "avg_relative_error = ((x - x2)**2).sum() / (x ** 2).sum()\n",
    "print(avg_relative_error)"
   ]
  },
  {
   "cell_type": "markdown",
   "metadata": {},
   "source": [
    "标量量化器（scalar quantizer）与之类似。"
   ]
  },
  {
   "cell_type": "code",
   "execution_count": 20,
   "metadata": {},
   "outputs": [
    {
     "name": "stdout",
     "output_type": "stream",
     "text": [
      "6.7287445e-08\n"
     ]
    }
   ],
   "source": [
    "d = 512  # 数据维度\n",
    "\n",
    "# 训练集\n",
    "xt = data\n",
    "\n",
    "# dataset to encode (could be same as train)\n",
    "x = data\n",
    "\n",
    "# QT_8bit allocates 8 bits per dimension (QT_4bit also works)\n",
    "sq = faiss.ScalarQuantizer(d, faiss.ScalarQuantizer.QT_8bit)\n",
    "sq.train(xt)\n",
    "\n",
    "# encode 编码\n",
    "codes = sq.compute_codes(x)\n",
    "\n",
    "# decode 解码\n",
    "x2 = sq.decode(codes)\n",
    "\n",
    "# 计算编码-解码后与原始数据的差\n",
    "avg_relative_error = ((x - x2)**2).sum() / (x ** 2).sum()\n",
    "print(avg_relative_error)"
   ]
  }
 ],
 "metadata": {
  "kernelspec": {
   "display_name": "Python 3",
   "language": "python",
   "name": "python3"
  },
  "language_info": {
   "codemirror_mode": {
    "name": "ipython",
    "version": 3
   },
   "file_extension": ".py",
   "mimetype": "text/x-python",
   "name": "python",
   "nbconvert_exporter": "python",
   "pygments_lexer": "ipython3",
   "version": "3.7.2"
  },
  "toc": {
   "base_numbering": 1,
   "nav_menu": {},
   "number_sections": true,
   "sideBar": true,
   "skip_h1_title": false,
   "title_cell": "Table of Contents",
   "title_sidebar": "Contents",
   "toc_cell": false,
   "toc_position": {},
   "toc_section_display": true,
   "toc_window_display": false
  }
 },
 "nbformat": 4,
 "nbformat_minor": 2
}
