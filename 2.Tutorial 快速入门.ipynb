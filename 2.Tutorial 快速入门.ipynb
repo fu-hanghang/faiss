{
 "cells": [
  {
   "cell_type": "markdown",
   "metadata": {},
   "source": [
    "# Tutorial 快速入门\n",
    "## 数据准备\n",
    "faiss可以处理固定维度d的向量集合，这样的集合这里用二维数组表示。\n",
    "一般来说，我们需要两个数组：  \n",
    "1.data。包含被索引的所有向量元素；  \n",
    "2.query。索引向量，我们需要根据索引向量的值返回xb中的最近邻元素。  \n",
    "为了对比不同索引方式的差别，在下面的例子中我们统一使用完全相同的数据，即维数d为512，data包含2000个向量，每个向量符合正态分布。  \n",
    "需要注意的是，faiss需要数组中的元素都是32位浮点数格式。 datatype = 'float32'。"
   ]
  },
  {
   "cell_type": "code",
   "execution_count": 2,
   "metadata": {},
   "outputs": [
    {
     "name": "stdout",
     "output_type": "stream",
     "text": [
      "data.shape =  (2000, 512) ,type =  <class 'numpy.ndarray'>\n"
     ]
    },
    {
     "data": {
      "image/png": "[encoded data removed]",
      "text/plain": [
       "<Figure size 432x288 with 1 Axes>"
      ]
     },
     "metadata": {
      "needs_background": "light"
     },
     "output_type": "display_data"
    }
   ],
   "source": [
    "import numpy as np \n",
    "d = 512          #维数\n",
    "n_data = 2000   \n",
    "np.random.seed(0) \n",
    "data = []\n",
    "mu = 3\n",
    "sigma = 0.1\n",
    "for i in range(n_data):\n",
    "    data.append(np.random.normal(mu, sigma, d))\n",
    "data = np.array(data).astype('float32')\n",
    "\n",
    "print('data.shape = ',data.shape,',type = ',type(data))\n",
    "#print(data[0])\n",
    "\n",
    "# 查看第六个向量是不是符合正态分布\n",
    "import matplotlib.pyplot as plt \n",
    "%matplotlib inline\n",
    "plt.hist(data[5])\n",
    "plt.show()\n"
   ]
  },
  {
   "cell_type": "code",
   "execution_count": 3,
   "metadata": {},
   "outputs": [
    {
     "name": "stdout",
     "output_type": "stream",
     "text": [
      "query.shape =  (10, 512)\n"
     ]
    }
   ],
   "source": [
    "query = []\n",
    "n_query = 10\n",
    "mu = 3\n",
    "sigma = 0.1\n",
    "np.random.seed(12) \n",
    "query = []\n",
    "for i in range(n_query):\n",
    "    query.append(np.random.normal(mu, sigma, d))\n",
    "query = np.array(query).astype('float32')\n",
    "\n",
    "print('query.shape = ',query.shape)"
   ]
  },
  {
   "cell_type": "code",
   "execution_count": 4,
   "metadata": {},
   "outputs": [
    {
     "data": {
      "text/plain": [
       "array([[3.0472987, 2.9318573, 3.0242438, ..., 2.896445 , 3.0222628,\n",
       "        3.0972836],\n",
       "       [3.0169747, 3.016496 , 2.8817399, ..., 3.0395522, 2.9079628,\n",
       "        2.793143 ],\n",
       "       [2.9664106, 2.8142488, 2.8380568, ..., 3.118812 , 2.962044 ,\n",
       "        3.1162553],\n",
       "       ...,\n",
       "       [3.0374472, 3.0576391, 2.9502766, ..., 2.9820187, 2.9788334,\n",
       "        2.8557   ],\n",
       "       [2.9695861, 2.8948371, 3.0037498, ..., 3.0068812, 2.9892678,\n",
       "        3.0149632],\n",
       "       [2.9541945, 2.9703581, 2.8858728, ..., 2.966887 , 3.0741117,\n",
       "        3.0079248]], dtype=float32)"
      ]
     },
     "execution_count": 4,
     "metadata": {},
     "output_type": "execute_result"
    }
   ],
   "source": [
    "query"
   ]
  },
  {
   "cell_type": "markdown",
   "metadata": {},
   "source": [
    "## 精确索引\n",
    "在使用faiss时，我们是围绕index对象进行的。index中包含被索引的数据库向量，在索引时可以选择不同方式的预处理来提高索引的效率，表现维不同的索引类型。在精确搜索时选择最简单的IndexFlatL2索引类型。  \n",
    "IndexFlatL2类型遍历计算查询向量与被查询向量的L2精确距离，不需要训练操作（大部分index类型都需要train操作）。  \n",
    "在构建index时要提供相关参数，这里是向量维数d，构建完成index之后可以通过add()和search（）进行查询。"
   ]
  },
  {
   "cell_type": "code",
   "execution_count": 5,
   "metadata": {},
   "outputs": [
    {
     "name": "stdout",
     "output_type": "stream",
     "text": [
      "True\n",
      "2000\n"
     ]
    }
   ],
   "source": [
    "import faiss\n",
    "index = faiss.IndexFlatL2(d)  # 构建index\n",
    "print(index.is_trained)  # False时需要train\n",
    "index.add(data)  #添加数据\n",
    "print(index.ntotal)  #index中向量的个数"
   ]
  },
  {
   "cell_type": "code",
   "execution_count": 6,
   "metadata": {},
   "outputs": [
    {
     "name": "stdout",
     "output_type": "stream",
     "text": [
      "[[0.       8.007045 8.313328 8.53525  8.560175 8.561642 8.624167 8.628234\n",
      "  8.709978 8.77004 ]\n",
      " [0.       8.27809  8.355579 8.42606  8.462017 8.468868 8.487028 8.549963\n",
      "  8.562824 8.599199]\n",
      " [0.       8.152368 8.156569 8.223303 8.276016 8.376871 8.379269 8.406122\n",
      "  8.418619 8.443283]\n",
      " [0.       8.260519 8.336826 8.339298 8.40288  8.46439  8.474661 8.479043\n",
      "  8.485248 8.526599]\n",
      " [0.       8.346273 8.407202 8.462828 8.49723  8.520801 8.597084 8.600386\n",
      "  8.605133 8.630594]]\n",
      "[[   0  798  879  223  981 1401 1458 1174  919   26]\n",
      " [   1  981 1524 1639 1949 1472 1162  923  840  300]\n",
      " [   2 1886  375 1351  518 1735 1551 1958  390 1695]\n",
      " [   3 1459  331  389  655 1943 1483 1723 1672 1859]\n",
      " [   4   13  715 1470  608  459  888  850 1080 1654]]\n"
     ]
    }
   ],
   "source": [
    "k = 10  # 返回结果个数\n",
    "query_self = data[:5]  # 查询本身\n",
    "dis, ind = index.search(query_self, k)\n",
    "print(dis)  # 升序返回每个查询向量的距离\n",
    "print(ind)  # 升序返回每个查询向量的k个相似结果"
   ]
  },
  {
   "cell_type": "markdown",
   "metadata": {},
   "source": [
    "因为查询向量是数据库向量的子集，所以每个查询向量返回的结果中排序第一的是其本身，L2距离是0."
   ]
  },
  {
   "cell_type": "code",
   "execution_count": 7,
   "metadata": {},
   "outputs": [
    {
     "name": "stdout",
     "output_type": "stream",
     "text": [
      "[[8.61838   8.782156  8.782816  8.832029  8.837633  8.848496  8.897978\n",
      "  8.916636  8.919006  8.9374   ]\n",
      " [9.033303  9.038907  9.091705  9.15584   9.164591  9.200112  9.201884\n",
      "  9.220335  9.279477  9.312859 ]\n",
      " [8.063818  8.211029  8.306456  8.373352  8.459253  8.459892  8.498557\n",
      "  8.546464  8.555408  8.621426 ]\n",
      " [8.193894  8.211956  8.34701   8.446963  8.45299   8.45486   8.473572\n",
      "  8.50477   8.513636  8.530684 ]\n",
      " [8.369624  8.549444  8.704066  8.736764  8.760082  8.777319  8.831345\n",
      "  8.835486  8.858271  8.860058 ]\n",
      " [8.299072  8.432398  8.434382  8.457374  8.539217  8.562359  8.579033\n",
      "  8.618736  8.630861  8.643393 ]\n",
      " [8.615004  8.615164  8.72604   8.730943  8.762621  8.796932  8.797068\n",
      "  8.797365  8.813985  8.834726 ]\n",
      " [8.377227  8.522776  8.711159  8.724562  8.745737  8.763846  8.768602\n",
      "  8.7727995 8.786856  8.828224 ]\n",
      " [8.342917  8.488056  8.655106  8.662771  8.701336  8.741287  8.743608\n",
      "  8.770507  8.786264  8.849051 ]\n",
      " [8.522164  8.575703  8.68462   8.767247  8.782909  8.850494  8.883733\n",
      "  8.90369   8.909393  8.91768  ]]\n",
      "[[1269 1525 1723 1160 1694   48 1075 1028  544  916]\n",
      " [1035  259 1279 1116 1398  879  289  882 1420 1927]\n",
      " [ 327  345 1401  389 1904 1992 1612  106  981 1179]\n",
      " [1259  112  351  804 1412 1987 1377  250 1624  133]\n",
      " [1666  854 1135  616   94  280   30   99 1212    3]\n",
      " [ 574 1523  366  766 1046   91  456  649   46  896]\n",
      " [1945  944  244  655 1686  981  256 1555 1280 1969]\n",
      " [ 879 1025  390  269 1115 1662 1831  610   11  191]\n",
      " [ 156  154   99   31 1237  289  769 1524   56  661]\n",
      " [ 427  182  375 1826  610 1384 1299  750    2 1430]]\n"
     ]
    }
   ],
   "source": [
    "k = 10\n",
    "dis, ind = index.search(query, k)\n",
    "print(dis)\n",
    "print(ind)"
   ]
  },
  {
   "cell_type": "markdown",
   "metadata": {},
   "source": [
    "## 倒排表快速索引\n",
    "在数据量非常大的时候，需要对数据做预处理来提高索引效率。一种方式是对数据库向量进行分割，划分为多个d维维诺空间，查询阶段，只需要将查询向量落入的维诺空间中的数据库向量与之比较，返回计算所得的k个最近邻结果即可，大大缩减了索引时间。  \n",
    "nlist参数控制将数据集向量分为多少个维诺空间；  \n",
    "nprobe参数控制在多少个维诺空间的范围内进行索引。"
   ]
  },
  {
   "cell_type": "code",
   "execution_count": null,
   "metadata": {},
   "outputs": [],
   "source": [
    "nlist = 50  # 将数据库向量分割为多少了维诺空间\n",
    "k = 10\n",
    "quantizer = faiss.IndexFlatL2(d)  # 量化器\n",
    "index = faiss.IndexIVFFlat(quantizer, d, nlist, faiss.METRIC_L2)\n",
    "       # METRIC_L2计算L2距离, 或faiss.METRIC_INNER_PRODUCT计算内积\n",
    "assert not index.is_trained   #倒排表索引类型需要训练\n",
    "index.train(data)  # 训练数据集应该与数据库数据集同分布\n",
    "assert index.is_trained\n",
    "\n",
    "index.add(data)\n",
    "index.nprobe = 50  # 选择n个维诺空间进行索引,\n",
    "dis, ind = index.search(query, k)\n",
    "print(dis)\n",
    "print(ind)"
   ]
  },
  {
   "cell_type": "markdown",
   "metadata": {},
   "source": [
    "通过改变nprobe的值，发现在nprobe值较小的时候，查询可能会出错，但时间开销很小，随着nprobe的值增加，精度逐渐增大，但时间开销也逐渐增加，当nprobe=nlist时，等效于IndexFlatL2索引类型。  \n",
    "简而言之，倒排表索引首先将数据库向量通过聚类方法分割成若干子类，每个子类用类中心表示，当查询向量来临，选择距离最近的类中心，然后在子类中应用精确查询方法，通过增加相邻的子类个数提高索引的精确度。"
   ]
  },
  {
   "cell_type": "markdown",
   "metadata": {},
   "source": [
    "## 乘积量化索引\n",
    "在上述两种索引方式中，在index中都保存了完整的数据库向量，在数据量非常大的时候会占用太多内存，甚至超出内存限制。  \n",
    "在faiss中，当数据量非常大的时候，一般采用乘积量化方法保存原始向量的有损压缩形式,故而查询阶段返回的结果也是近似的。"
   ]
  },
  {
   "cell_type": "code",
   "execution_count": null,
   "metadata": {},
   "outputs": [],
   "source": [
    "nlist = 50\n",
    "m = 8                             # 列方向划分个数，必须能被d整除\n",
    "k = 10\n",
    "quantizer = faiss.IndexFlatL2(d)  \n",
    "index = faiss.IndexIVFPQ(quantizer, d, nlist, m, 4)\n",
    "                                    # 4 表示每个子向量被编码为 4 bits\n",
    "index.train(data)\n",
    "index.add(data)\n",
    "index.nprobe = 50\n",
    "dis, ind = index.search(query_self, k)  # 查询自身\n",
    "print(dis)\n",
    "print(ind)\n",
    "dis, ind = index.search(query, k)  # 真实查询\n",
    "print(dis)\n",
    "print(ind)"
   ]
  },
  {
   "cell_type": "markdown",
   "metadata": {},
   "source": [
    "实验发现，乘积量化后查询返回的距离值与真实值相比偏小，返回的结果只是近似值。  \n",
    "查询自身时能够返回自身，但真实查询时效果较差，这里只是使用了正态分布的数据集，在真实使用时效果会更好，原因有：  \n",
    "1.正态分布的数据相对更难查询，难以聚类/降维；  \n",
    "2.自然数据相似的向量与不相似的向量差别更大，更容易查找；\n"
   ]
  }
 ],
 "metadata": {
  "kernelspec": {
   "display_name": "Python 3",
   "language": "python",
   "name": "python3"
  },
  "language_info": {
   "codemirror_mode": {
    "name": "ipython",
    "version": 3
   },
   "file_extension": ".py",
   "mimetype": "text/x-python",
   "name": "python",
   "nbconvert_exporter": "python",
   "pygments_lexer": "ipython3",
   "version": "3.7.2"
  },
  "toc": {
   "base_numbering": 1,
   "nav_menu": {},
   "number_sections": true,
   "sideBar": true,
   "skip_h1_title": false,
   "title_cell": "Table of Contents",
   "title_sidebar": "Contents",
   "toc_cell": false,
   "toc_position": {
    "height": "calc(100% - 180px)",
    "left": "10px",
    "top": "150px",
    "width": "193.835px"
   },
   "toc_section_display": true,
   "toc_window_display": true
  }
 },
 "nbformat": 4,
 "nbformat_minor": 2
}
