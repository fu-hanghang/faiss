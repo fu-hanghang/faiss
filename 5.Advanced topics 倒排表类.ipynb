{
 "cells": [
  {
   "cell_type": "markdown",
   "metadata": {},
   "source": [
    "# 倒排表类\n",
    "\n",
    "## 简要回顾倒排表索引类型IndexIVF\n",
    "IndexIVF用于大规模数据集的检索，首先将输入向量聚类为nlist个类，在添加数据时，记录每个向量应该属于哪个类，在检索时，选择距查询向量最近的类中的所有向量进行精确查找。  \n",
    "因此，IndexIVF类型有两个部分组成：  \n",
    "1）量化器。判断一个向量应该落入哪个聚类子空间；  \n",
    "2）一个InvertedLists对象，保存聚类中心id到视频id的映射。"
   ]
  },
  {
   "cell_type": "code",
   "execution_count": null,
   "metadata": {},
   "outputs": [],
   "source": []
  },
  {
   "cell_type": "code",
   "execution_count": null,
   "metadata": {},
   "outputs": [],
   "source": []
  }
 ],
 "metadata": {
  "kernelspec": {
   "display_name": "Python 3",
   "language": "python",
   "name": "python3"
  },
  "language_info": {
   "codemirror_mode": {
    "name": "ipython",
    "version": 3
   },
   "file_extension": ".py",
   "mimetype": "text/x-python",
   "name": "python",
   "nbconvert_exporter": "python",
   "pygments_lexer": "ipython3",
   "version": "3.7.2"
  },
  "toc": {
   "base_numbering": 1,
   "nav_menu": {},
   "number_sections": true,
   "sideBar": true,
   "skip_h1_title": false,
   "title_cell": "Table of Contents",
   "title_sidebar": "Contents",
   "toc_cell": false,
   "toc_position": {},
   "toc_section_display": true,
   "toc_window_display": false
  }
 },
 "nbformat": 4,
 "nbformat_minor": 2
}
