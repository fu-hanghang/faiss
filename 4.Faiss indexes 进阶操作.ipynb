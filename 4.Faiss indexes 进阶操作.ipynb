{
 "cells": [
  {
   "cell_type": "markdown",
   "metadata": {},
   "source": [
    "# index进阶操作\n",
    "下面介绍的方法只支持部分Index类型。"
   ]
  },
  {
   "cell_type": "markdown",
   "metadata": {},
   "source": [
    "## 从index中恢复出原始数据\n",
    "给定id，可以使用reconstruct或者reconstruct_n方法从index中回复出原始向量。  \n",
    "支持IndexFlat, IndexIVFFlat (需要与make_direct_map结合), IndexIVFPQ, IndexPreTransform这几类索引类型。"
   ]
  },
  {
   "cell_type": "code",
   "execution_count": 1,
   "metadata": {},
   "outputs": [],
   "source": [
    "# 导入faiss\n",
    "import sys\n",
    "import numpy as np \n",
    "import faiss\n",
    "\n",
    "#生成数据\n",
    "d = 16\n",
    "n_data = 500\n",
    "data = np.random.rand(n_data, d).astype('float32')"
   ]
  },
  {
   "cell_type": "code",
   "execution_count": 9,
   "metadata": {},
   "outputs": [
    {
     "name": "stdout",
     "output_type": "stream",
     "text": [
      "[0.58085376 0.5048806  0.99052334 0.5899147  0.5211166  0.35997516\n",
      " 0.7275415  0.1242122  0.08336558 0.48458952 0.3289773  0.905333\n",
      " 0.6513156  0.33422878 0.04078896 0.6842935 ]\n",
      "(10, 16)\n"
     ]
    }
   ],
   "source": [
    "index = faiss.IndexFlatL2(d)\n",
    "index.add(data)\n",
    "re_data = index.reconstruct(0)  #指定需要恢复的向量的id,每次只能恢复一个向量\n",
    "print(re_data)\n",
    "re_data_n = index.reconstruct_n(0, 10) #从第0个向量开始，连续取10个\n",
    "print(re_data_n.shape)"
   ]
  },
  {
   "cell_type": "markdown",
   "metadata": {},
   "source": [
    "## 从index中移除向量\n",
    "使用remove_ids方法可以移除Index中的部分向量，调用了IDSelector对象（或IDSelectorBatch批量操作）标识每个向量是否应该被移除。因为要遍历标识数据库中的每一个向量，所以只有在需要移除大部分向量时才建议使用。   \n",
    "支持IndexFlat, IndexIVFFlat, IndexIVFPQ, IDMap。"
   ]
  },
  {
   "cell_type": "code",
   "execution_count": 2,
   "metadata": {},
   "outputs": [
    {
     "data": {
      "text/plain": [
       "array([0, 1, 2, 3, 4])"
      ]
     },
     "execution_count": 2,
     "metadata": {},
     "output_type": "execute_result"
    }
   ],
   "source": [
    "np.arange(5)"
   ]
  },
  {
   "cell_type": "code",
   "execution_count": 3,
   "metadata": {},
   "outputs": [
    {
     "name": "stdout",
     "output_type": "stream",
     "text": [
      "500\n",
      "495\n"
     ]
    }
   ],
   "source": [
    "index = faiss.IndexFlatL2(d)\n",
    "index.add(data)\n",
    "print(index.ntotal)\n",
    "index.remove_ids(np.arange(5)) # 需要移除的向量的id\n",
    "print(index.ntotal)  #移除了5个向量，还剩495个"
   ]
  },
  {
   "cell_type": "markdown",
   "metadata": {},
   "source": [
    "## 搜索距离范围内的向量\n",
    "以查询向量为中心，返回距离在一定范围内的结果，如返回数据库中与查询向量距离小于0.3的结果。  \n",
    "支持IndexFlat, IndexIVFFlat，只支持在CPU使用。"
   ]
  },
  {
   "cell_type": "code",
   "execution_count": 4,
   "metadata": {},
   "outputs": [
    {
     "name": "stdout",
     "output_type": "stream",
     "text": [
      "(array([ 0, 55]), array([1.280822  , 1.3295162 , 1.5801655 , 0.7207364 , 1.4991262 ,\n",
      "       1.764689  , 0.        , 1.6234388 , 1.7517002 , 1.7792666 ,\n",
      "       1.7567683 , 1.5430187 , 1.1690389 , 1.3218455 , 0.89941883,\n",
      "       1.7498869 , 0.6897409 , 1.6804354 , 1.0435787 , 1.0258403 ,\n",
      "       1.523227  , 1.4910573 , 1.1095209 , 1.7023015 , 1.3960974 ,\n",
      "       1.3228252 , 1.6525512 , 1.8227777 , 1.4144393 , 1.6397526 ,\n",
      "       1.2611463 , 1.7488983 , 1.308383  , 1.6685643 , 1.7254606 ,\n",
      "       1.362961  , 1.47911   , 1.709446  , 1.6292217 , 1.7591525 ,\n",
      "       1.5657973 , 1.6883831 , 1.4597831 , 1.3353482 , 1.8227344 ,\n",
      "       1.5335355 , 1.6147892 , 1.6917641 , 1.045331  , 1.3066003 ,\n",
      "       1.6605895 , 1.8068461 , 1.5812256 , 1.5959156 , 1.3412136 ],\n",
      "      dtype=float32), array([  6,  24,  25,  31,  38,  44,  49,  53,  61,  67,  74,  83,  84,\n",
      "        87,  99, 128, 133, 134, 146, 153, 154, 159, 179, 188, 192, 193,\n",
      "       194, 196, 213, 233, 249, 258, 271, 275, 281, 289, 292, 310, 313,\n",
      "       320, 331, 350, 358, 369, 375, 380, 383, 390, 393, 397, 404, 448,\n",
      "       452, 469, 485]))\n",
      "(array([  0, 102]), array([0.73988616, 1.8077241 , 1.7966056 , 0.        , 1.7487254 ,\n",
      "       1.3117546 , 1.553581  , 1.5470636 , 0.9662104 , 1.331827  ,\n",
      "       1.1826439 , 1.5948946 , 1.2411816 , 1.7952955 , 1.7686008 ,\n",
      "       1.5564924 , 1.7807167 , 1.6515331 , 1.5932951 , 1.6587133 ,\n",
      "       1.2023616 , 1.8151021 , 1.4934919 , 1.8161986 , 1.7857426 ,\n",
      "       1.1848578 , 1.8041353 , 1.2834201 , 1.7981857 , 1.7051196 ,\n",
      "       0.7718836 , 1.4895186 , 1.023164  , 1.4101846 , 1.1623194 ,\n",
      "       0.90356433, 1.7118239 , 1.7105511 , 1.1261286 , 1.676229  ,\n",
      "       1.4589217 , 1.4246112 , 1.746105  , 1.3709817 , 1.0145653 ,\n",
      "       1.4614003 , 1.6578219 , 1.6880989 , 1.6232543 , 1.5212792 ,\n",
      "       1.3977735 , 1.6578187 , 1.774936  , 1.4999176 , 1.3164179 ,\n",
      "       1.4009792 , 1.6781176 , 1.3789818 , 1.7624638 , 1.7163173 ,\n",
      "       1.5946693 , 1.7920022 , 1.709611  , 1.0675359 , 1.7202566 ,\n",
      "       1.5877957 , 1.2876382 , 1.5602576 , 1.1653926 , 1.7539313 ,\n",
      "       1.5099807 , 1.7123771 , 1.462423  , 1.3181862 , 1.3557134 ,\n",
      "       1.5389433 , 1.4847485 , 1.7161503 , 1.7031059 , 1.7763519 ,\n",
      "       1.6872743 , 0.8736876 , 1.7962283 , 1.1985885 , 1.8234326 ,\n",
      "       1.3175011 , 1.4648274 , 1.7030427 , 1.6645141 , 0.6961131 ,\n",
      "       1.3693923 , 0.9804095 , 1.789043  , 1.813756  , 1.7924595 ,\n",
      "       1.423121  , 1.6432616 , 1.5808288 , 1.7663455 , 1.7656803 ,\n",
      "       1.4919276 , 1.3191041 ], dtype=float32), array([  0,   5,   6,   9,  16,  18,  20,  26,  34,  36,  37,  47,  61,\n",
      "        64,  66,  74,  76,  87,  95,  98, 115, 116, 117, 123, 124, 127,\n",
      "       130, 132, 135, 139, 143, 145, 152, 160, 163, 164, 173, 179, 183,\n",
      "       185, 187, 195, 196, 198, 201, 202, 208, 216, 219, 222, 223, 226,\n",
      "       234, 235, 241, 251, 258, 259, 269, 273, 279, 280, 286, 302, 315,\n",
      "       319, 321, 323, 324, 326, 328, 331, 338, 340, 341, 344, 349, 351,\n",
      "       360, 367, 370, 371, 385, 399, 402, 405, 407, 408, 415, 424, 436,\n",
      "       443, 445, 450, 452, 454, 455, 482, 483, 487, 491, 498]))\n"
     ]
    }
   ],
   "source": [
    "index = faiss.IndexFlatL2(d)\n",
    "index.add(data)\n",
    "dist = float(np.linalg.norm(data[3] - data[0])) * 0.99  # 定义一个半径/阈值\n",
    "res_index = index.range_search(data[[49], :], dist)  #用第50个向量查询\n",
    "print(res_index) #返回结果是一个三元组，分别是limit(返回的结果的数量), distance, index\n",
    "res_index = index.range_search(data[[9], :], dist)  #用第10个向量查询\n",
    "print(res_index) #返回结果是一个三元组，分别是limit(返回的结果的数量), distance, index"
   ]
  },
  {
   "cell_type": "markdown",
   "metadata": {},
   "source": [
    "## 拆分/合并index\n",
    "可以将多个index合并，需要注意的是，多个Index的数据应该满足同一分布，并且用同一分布的数据训练index，如果多个Index的数据分布不同，合并时并不会报错，但在理论上会降低索引的精度，应该用与合并后的数据集同分布的训练集再次训练。"
   ]
  },
  {
   "cell_type": "code",
   "execution_count": 35,
   "metadata": {},
   "outputs": [
    {
     "name": "stdout",
     "output_type": "stream",
     "text": [
      "500\n",
      "[[  0  28 382 194 286 114 308 480 254 279]\n",
      " [  1 416 272 250 296 138 366 281  93 169]\n",
      " [  2  44 491 231 178 285 117 273  83 187]\n",
      " [  3 194  28 143 270 430 264 382 197 279]\n",
      " [  4 464 317  89 325 498  83 101 285  51]]\n"
     ]
    }
   ],
   "source": [
    "nlist = 10\n",
    "quantizer = faiss.IndexFlatL2(d)\n",
    "index1 = faiss.IndexIVFFlat(quantizer, d, nlist)\n",
    "index1.train(data)\n",
    "index1.add(data[:250])\n",
    "index2 = faiss.IndexIVFFlat(quantizer, d, nlist)\n",
    "index2.add(data[250:])\n",
    "index1.merge_from(index2, 250)\n",
    "print(index1.ntotal) # 合并后应该包含500个向量\n",
    "dis, ind = index1.search(data[:5], 10)\n",
    "print(ind)"
   ]
  }
 ],
 "metadata": {
  "kernelspec": {
   "display_name": "Python 3",
   "language": "python",
   "name": "python3"
  },
  "language_info": {
   "codemirror_mode": {
    "name": "ipython",
    "version": 3
   },
   "file_extension": ".py",
   "mimetype": "text/x-python",
   "name": "python",
   "nbconvert_exporter": "python",
   "pygments_lexer": "ipython3",
   "version": "3.7.2"
  },
  "toc": {
   "base_numbering": 1,
   "nav_menu": {},
   "number_sections": true,
   "sideBar": true,
   "skip_h1_title": false,
   "title_cell": "Table of Contents",
   "title_sidebar": "Contents",
   "toc_cell": false,
   "toc_position": {},
   "toc_section_display": true,
   "toc_window_display": false
  }
 },
 "nbformat": 4,
 "nbformat_minor": 1
}
