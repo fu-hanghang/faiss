{
 "cells": [
  {
   "cell_type": "code",
   "execution_count": 1,
   "metadata": {},
   "outputs": [],
   "source": [
    "import faiss\n",
    "\n",
    "#数据\n",
    "import numpy as np \n",
    "d = 512          #维数\n",
    "n_data = 2000   \n",
    "np.random.seed(0) \n",
    "data = []\n",
    "mu = 3\n",
    "sigma = 0.1\n",
    "for i in range(n_data):\n",
    "    data.append(np.random.normal(mu, sigma, d))\n",
    "data = np.array(data).astype('float32')\n",
    "\n",
    "#ids, 6位随机数\n",
    "ids = []\n",
    "start = 100000\n",
    "for i in range(data.shape[0]):\n",
    "    ids.append(start)\n",
    "    start += 100\n",
    "ids = np.array(ids)"
   ]
  },
  {
   "cell_type": "code",
   "execution_count": 2,
   "metadata": {},
   "outputs": [],
   "source": [
    "#不支持add_with_ids\n",
    "index = faiss.index_factory(d, \"Flat\")\n",
    "index.add(data)"
   ]
  },
  {
   "cell_type": "markdown",
   "metadata": {},
   "source": [
    "# I/O操作"
   ]
  },
  {
   "cell_type": "code",
   "execution_count": 3,
   "metadata": {},
   "outputs": [],
   "source": [
    "faiss.write_index(index, \"index_file.index\") #将index保存为index_file.index文件\n",
    "index = faiss.read_index(\"index_file.index\") #读入index_file.index文件"
   ]
  },
  {
   "cell_type": "code",
   "execution_count": 4,
   "metadata": {},
   "outputs": [
    {
     "data": {
      "text/plain": [
       "2000"
      ]
     },
     "execution_count": 4,
     "metadata": {},
     "output_type": "execute_result"
    }
   ],
   "source": [
    "index.ntotal"
   ]
  },
  {
   "cell_type": "markdown",
   "metadata": {},
   "source": [
    "# Index factory\n",
    "用一个字符串构建Index，用逗号分割可以分为3部分：1.前处理部分；2.倒排表（聚类）；3.细化后处理部分  \n",
    "\n",
    "在前处理部分（preprocessing）：  \n",
    "    1.PCA。\"PCA64\"表示通过PCA将数据维度降为64，\"PCAR64\"表示增加了随机旋转（random rotation）。  \n",
    "    2.OPQ。\"OPQ16\"表示用OPQMatrix将数组量化为16位（待完善）  \n",
    "倒排表部分（inverted file）：  \n",
    "    1.\"IVF4096\"表示建立一个大小是4096的倒排表，即聚类为4096类。\n",
    "细化部分（refinement）：  \n",
    "    1.\"Flat\"保存完整向量，通过IndexFlat或者IndexIVFFlat实现；  \n",
    "    2.\"PQ16\"将向量编码为16byte，通过IndexPQ或者IndexIVFPQ实现；"
   ]
  },
  {
   "cell_type": "code",
   "execution_count": 6,
   "metadata": {},
   "outputs": [],
   "source": [
    "index = faiss.index_factory(128, \"PCA80,Flat\") # 原始向量128维，用PCA降为80维，然后应用精确搜索\n",
    "index = faiss.index_factory(128, \"OPQ16_64,IMI2x8,PQ8+16\") #原始向量128维，用OPQ降为64维，分为16类，用2*8bit的倒排多索引，用PQ编码为8byte保存，检索时使用16byte。"
   ]
  },
  {
   "cell_type": "code",
   "execution_count": null,
   "metadata": {},
   "outputs": [],
   "source": []
  }
 ],
 "metadata": {
  "kernelspec": {
   "display_name": "Python 3",
   "language": "python",
   "name": "python3"
  },
  "language_info": {
   "codemirror_mode": {
    "name": "ipython",
    "version": 3
   },
   "file_extension": ".py",
   "mimetype": "text/x-python",
   "name": "python",
   "nbconvert_exporter": "python",
   "pygments_lexer": "ipython3",
   "version": "3.7.2"
  },
  "toc": {
   "base_numbering": 1,
   "nav_menu": {},
   "number_sections": true,
   "sideBar": true,
   "skip_h1_title": false,
   "title_cell": "Table of Contents",
   "title_sidebar": "Contents",
   "toc_cell": false,
   "toc_position": {},
   "toc_section_display": true,
   "toc_window_display": false
  }
 },
 "nbformat": 4,
 "nbformat_minor": 2
}
